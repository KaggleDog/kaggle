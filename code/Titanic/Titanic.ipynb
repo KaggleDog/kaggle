{
 "cells": [
  {
   "cell_type": "code",
   "execution_count": null,
   "metadata": {
    "collapsed": true
   },
   "outputs": [],
   "source": [
    "# 用决策树方法对titanic生还机会进行预测\n",
    "#titanic乘客数据查验\n",
    "import pandas as pd\n",
    "#用pandas的read_csv模块直接从互联网读取数据\n",
    "titanic = pd.read_csv('http://biostat.mc.vanderbilt.edu/wiki/pub/Main/DataSets/titanic.txt')\n",
    "#观察前几行数据，可以发现数据种类各异，甚至有缺失数据\n",
    "titanic.head()"
   ]
  },
  {
   "cell_type": "code",
   "execution_count": 2,
   "metadata": {},
   "outputs": [
    {
     "name": "stdout",
     "output_type": "stream",
     "text": [
      "<class 'pandas.core.frame.DataFrame'>\n",
      "RangeIndex: 1313 entries, 0 to 1312\n",
      "Data columns (total 11 columns):\n",
      "row.names    1313 non-null int64\n",
      "pclass       1313 non-null object\n",
      "survived     1313 non-null int64\n",
      "name         1313 non-null object\n",
      "age          633 non-null float64\n",
      "embarked     821 non-null object\n",
      "home.dest    754 non-null object\n",
      "room         77 non-null object\n",
      "ticket       69 non-null object\n",
      "boat         347 non-null object\n",
      "sex          1313 non-null object\n",
      "dtypes: float64(1), int64(2), object(8)\n",
      "memory usage: 112.9+ KB\n"
     ]
    }
   ],
   "source": [
    "#使用pandas,数据都转为pandas独有的dataframe格式（二维数据表格），直接使用info()查看数据统计特性\n",
    "titanic.info()"
   ]
  },
  {
   "cell_type": "code",
   "execution_count": 3,
   "metadata": {},
   "outputs": [
    {
     "name": "stdout",
     "output_type": "stream",
     "text": [
      "<class 'pandas.core.frame.DataFrame'>\n",
      "RangeIndex: 1313 entries, 0 to 1312\n",
      "Data columns (total 3 columns):\n",
      "pclass    1313 non-null object\n",
      "age       633 non-null float64\n",
      "sex       1313 non-null object\n",
      "dtypes: float64(1), object(2)\n",
      "memory usage: 30.8+ KB\n"
     ]
    }
   ],
   "source": [
    "#非常重要的一步：选择特征，我们可以了解，sex,age,pclass与能否生还起决定性因素\n",
    "x=titanic[['pclass','age','sex']]\n",
    "y=titanic[['survived']]\n",
    "\n",
    "#对当前选择的特征进行查看\n",
    "x.info()"
   ]
  },
  {
   "cell_type": "code",
   "execution_count": 4,
   "metadata": {},
   "outputs": [
    {
     "name": "stdout",
     "output_type": "stream",
     "text": [
      "<class 'pandas.core.frame.DataFrame'>\n",
      "RangeIndex: 1313 entries, 0 to 1312\n",
      "Data columns (total 3 columns):\n",
      "pclass    1313 non-null object\n",
      "age       1313 non-null float64\n",
      "sex       1313 non-null object\n",
      "dtypes: float64(1), object(2)\n",
      "memory usage: 30.8+ KB\n"
     ]
    },
    {
     "name": "stderr",
     "output_type": "stream",
     "text": [
      "d:\\ProgramData\\Anaconda2\\lib\\site-packages\\pandas\\core\\generic.py:3660: SettingWithCopyWarning: \n",
      "A value is trying to be set on a copy of a slice from a DataFrame\n",
      "\n",
      "See the caveats in the documentation: http://pandas.pydata.org/pandas-docs/stable/indexing.html#indexing-view-versus-copy\n",
      "  self._update_inplace(new_data)\n"
     ]
    }
   ],
   "source": [
    "#对数据进行预处理：（1）age有缺省的补全，用平均数或中位数都对模型偏离造成较小影响\n",
    "#(2)sex与plass数据都是类别型的，需要转化为数值特征，用0/1代替\n",
    "x['age'].fillna(x['age'].mean(), inplace=True)\n",
    "x.info()"
   ]
  },
  {
   "cell_type": "code",
   "execution_count": 5,
   "metadata": {},
   "outputs": [
    {
     "name": "stdout",
     "output_type": "stream",
     "text": [
      "['age', 'pclass=1st', 'pclass=2nd', 'pclass=3rd', 'sex=female', 'sex=male']\n"
     ]
    },
    {
     "name": "stderr",
     "output_type": "stream",
     "text": [
      "d:\\ProgramData\\Anaconda2\\lib\\site-packages\\sklearn\\cross_validation.py:41: DeprecationWarning: This module was deprecated in version 0.18 in favor of the model_selection module into which all the refactored classes and functions are moved. Also note that the interface of the new CV iterators are different from that of this module. This module will be removed in 0.20.\n",
      "  \"This module will be removed in 0.20.\", DeprecationWarning)\n"
     ]
    }
   ],
   "source": [
    "#数据分割成train，与test两部分\n",
    "from sklearn.cross_validation import train_test_split\n",
    "x_train, x_test, y_train, y_test=train_test_split(x,y, test_size=0.25,random_state=33)\n",
    "\n",
    "#使用scikit-learn.feature_extraction中的类型转换器\n",
    "from sklearn.feature_extraction import DictVectorizer\n",
    "vec=DictVectorizer(sparse=False)\n",
    "\n",
    "#特征转换后，我们发现凡是类别型数据都单独剥离出来，独立一列特征，数值型则保持不变\n",
    "x_train=vec.fit_transform(x_train.to_dict(orient='record'))\n",
    "print vec.feature_names_"
   ]
  },
  {
   "cell_type": "code",
   "execution_count": 6,
   "metadata": {
    "collapsed": true
   },
   "outputs": [],
   "source": [
    "#同样对测试数据进行转换\n",
    "x_test=vec.transform(x_test.to_dict(orient='record'))\n",
    "\n",
    "from sklearn.tree import DecisionTreeClassifier\n",
    "#初始化模型\n",
    "dtc=DecisionTreeClassifier()\n",
    "#对模型进行训练\n",
    "dtc.fit(x_train,y_train)\n",
    "#用训练好的模型对测试数据进行预测\n",
    "y_predict=dtc.predict(x_test)\n"
   ]
  },
  {
   "cell_type": "code",
   "execution_count": 7,
   "metadata": {},
   "outputs": [
    {
     "name": "stdout",
     "output_type": "stream",
     "text": [
      "0.781155015198\n",
      "             precision    recall  f1-score   support\n",
      "\n",
      "       died       0.91      0.78      0.84       236\n",
      "   survived       0.58      0.80      0.67        93\n",
      "\n",
      "avg / total       0.81      0.78      0.79       329\n",
      "\n"
     ]
    }
   ],
   "source": [
    "#对乘客生还预测性能\n",
    "from sklearn.metrics import classification_report\n",
    "#输出预测准确性\n",
    "print dtc.score(x_test, y_test)\n",
    "#输出其他性能指标(精确率，召回率，F1指标等)\n",
    "print classification_report(y_predict, y_test, target_names=['died','survived'])"
   ]
  },
  {
   "cell_type": "code",
   "execution_count": null,
   "metadata": {
    "collapsed": true
   },
   "outputs": [],
   "source": []
  },
  {
   "cell_type": "code",
   "execution_count": null,
   "metadata": {
    "collapsed": true
   },
   "outputs": [],
   "source": []
  },
  {
   "cell_type": "code",
   "execution_count": null,
   "metadata": {
    "collapsed": true
   },
   "outputs": [],
   "source": []
  }
 ],
 "metadata": {
  "kernelspec": {
   "display_name": "Python 2",
   "language": "python",
   "name": "python2"
  },
  "language_info": {
   "codemirror_mode": {
    "name": "ipython",
    "version": 2
   },
   "file_extension": ".py",
   "mimetype": "text/x-python",
   "name": "python",
   "nbconvert_exporter": "python",
   "pygments_lexer": "ipython2",
   "version": "2.7.13"
  }
 },
 "nbformat": 4,
 "nbformat_minor": 2
}
